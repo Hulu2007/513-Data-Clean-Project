{
 "cells": [
  {
   "cell_type": "code",
   "execution_count": 2,
   "metadata": {},
   "outputs": [],
   "source": [
    "import pandas as pd"
   ]
  },
  {
   "cell_type": "code",
   "execution_count": 25,
   "metadata": {},
   "outputs": [],
   "source": [
    "dish = pd.read_csv('Dish.csv')\n",
    "menu = pd.read_csv('Menu.csv')\n",
    "menu_item = pd.read_csv('MenuItem.csv')\n",
    "menu_page = pd.read_csv('MenuPage.csv')\n",
    "menu_cleaned = pd.read_csv(\"./v2/Cleaned_Menu.csv\")"
   ]
  },
  {
   "cell_type": "code",
   "execution_count": 26,
   "metadata": {},
   "outputs": [
    {
     "name": "stdout",
     "output_type": "stream",
     "text": [
      "id column contiains 0 null values\n",
      "id column contains 0 duplicate values\n"
     ]
    },
    {
     "data": {
      "text/html": [
       "<div>\n",
       "<style scoped>\n",
       "    .dataframe tbody tr th:only-of-type {\n",
       "        vertical-align: middle;\n",
       "    }\n",
       "\n",
       "    .dataframe tbody tr th {\n",
       "        vertical-align: top;\n",
       "    }\n",
       "\n",
       "    .dataframe thead th {\n",
       "        text-align: right;\n",
       "    }\n",
       "</style>\n",
       "<table border=\"1\" class=\"dataframe\">\n",
       "  <thead>\n",
       "    <tr style=\"text-align: right;\">\n",
       "      <th></th>\n",
       "      <th>id</th>\n",
       "      <th>name</th>\n",
       "      <th>description</th>\n",
       "      <th>menus_appeared</th>\n",
       "      <th>times_appeared</th>\n",
       "      <th>first_appeared</th>\n",
       "      <th>last_appeared</th>\n",
       "      <th>lowest_price</th>\n",
       "      <th>highest_price</th>\n",
       "    </tr>\n",
       "  </thead>\n",
       "  <tbody>\n",
       "    <tr>\n",
       "      <th>131193</th>\n",
       "      <td>164029</td>\n",
       "      <td>Clear beef broth</td>\n",
       "      <td>NaN</td>\n",
       "      <td>0</td>\n",
       "      <td>1</td>\n",
       "      <td>1900</td>\n",
       "      <td>0</td>\n",
       "      <td>0.25</td>\n",
       "      <td>0.25</td>\n",
       "    </tr>\n",
       "    <tr>\n",
       "      <th>163257</th>\n",
       "      <td>204888</td>\n",
       "      <td>Hot roast beef with gravy</td>\n",
       "      <td>NaN</td>\n",
       "      <td>0</td>\n",
       "      <td>1</td>\n",
       "      <td>1900</td>\n",
       "      <td>0</td>\n",
       "      <td>0.25</td>\n",
       "      <td>0.25</td>\n",
       "    </tr>\n",
       "    <tr>\n",
       "      <th>197049</th>\n",
       "      <td>250693</td>\n",
       "      <td>SURI LEBERLI - Shredded Calf's Liver Flambe in...</td>\n",
       "      <td>NaN</td>\n",
       "      <td>0</td>\n",
       "      <td>1</td>\n",
       "      <td>1945</td>\n",
       "      <td>0</td>\n",
       "      <td>NaN</td>\n",
       "      <td>NaN</td>\n",
       "    </tr>\n",
       "    <tr>\n",
       "      <th>197052</th>\n",
       "      <td>250699</td>\n",
       "      <td>SWISS MINCED VEAL, ROESTI</td>\n",
       "      <td>NaN</td>\n",
       "      <td>0</td>\n",
       "      <td>1</td>\n",
       "      <td>1945</td>\n",
       "      <td>0</td>\n",
       "      <td>NaN</td>\n",
       "      <td>NaN</td>\n",
       "    </tr>\n",
       "    <tr>\n",
       "      <th>237739</th>\n",
       "      <td>301736</td>\n",
       "      <td>Cafe Glacee</td>\n",
       "      <td>NaN</td>\n",
       "      <td>0</td>\n",
       "      <td>2</td>\n",
       "      <td>1940</td>\n",
       "      <td>0</td>\n",
       "      <td>0.40</td>\n",
       "      <td>0.40</td>\n",
       "    </tr>\n",
       "    <tr>\n",
       "      <th>244533</th>\n",
       "      <td>309629</td>\n",
       "      <td>Garlic Butter</td>\n",
       "      <td>NaN</td>\n",
       "      <td>0</td>\n",
       "      <td>1</td>\n",
       "      <td>1947</td>\n",
       "      <td>0</td>\n",
       "      <td>0.40</td>\n",
       "      <td>0.40</td>\n",
       "    </tr>\n",
       "  </tbody>\n",
       "</table>\n",
       "</div>"
      ],
      "text/plain": [
       "            id                                               name  \\\n",
       "131193  164029                                   Clear beef broth   \n",
       "163257  204888                          Hot roast beef with gravy   \n",
       "197049  250693  SURI LEBERLI - Shredded Calf's Liver Flambe in...   \n",
       "197052  250699                          SWISS MINCED VEAL, ROESTI   \n",
       "237739  301736                                        Cafe Glacee   \n",
       "244533  309629                                      Garlic Butter   \n",
       "\n",
       "        description  menus_appeared  times_appeared  first_appeared  \\\n",
       "131193          NaN               0               1            1900   \n",
       "163257          NaN               0               1            1900   \n",
       "197049          NaN               0               1            1945   \n",
       "197052          NaN               0               1            1945   \n",
       "237739          NaN               0               2            1940   \n",
       "244533          NaN               0               1            1947   \n",
       "\n",
       "        last_appeared  lowest_price  highest_price  \n",
       "131193              0          0.25           0.25  \n",
       "163257              0          0.25           0.25  \n",
       "197049              0           NaN            NaN  \n",
       "197052              0           NaN            NaN  \n",
       "237739              0          0.40           0.40  \n",
       "244533              0          0.40           0.40  "
      ]
     },
     "execution_count": 26,
     "metadata": {},
     "output_type": "execute_result"
    }
   ],
   "source": [
    "#Dish table Validation\n",
    "#Check if ID is unique and no null value\n",
    "print(\"id column contiains\",dish['id'].isnull().sum(),\"null values\")\n",
    "print(\"id column contains\", sum(dish['id'].duplicated()),\"duplicate values\")\n",
    "#First_appeared should be smaller than last_appeared.\n",
    "dish[dish['first_appeared']>dish['last_appeared']]"
   ]
  },
  {
   "cell_type": "code",
   "execution_count": 27,
   "metadata": {},
   "outputs": [
    {
     "data": {
      "text/html": [
       "<div>\n",
       "<style scoped>\n",
       "    .dataframe tbody tr th:only-of-type {\n",
       "        vertical-align: middle;\n",
       "    }\n",
       "\n",
       "    .dataframe tbody tr th {\n",
       "        vertical-align: top;\n",
       "    }\n",
       "\n",
       "    .dataframe thead th {\n",
       "        text-align: right;\n",
       "    }\n",
       "</style>\n",
       "<table border=\"1\" class=\"dataframe\">\n",
       "  <thead>\n",
       "    <tr style=\"text-align: right;\">\n",
       "      <th></th>\n",
       "      <th>id</th>\n",
       "      <th>name</th>\n",
       "      <th>description</th>\n",
       "      <th>menus_appeared</th>\n",
       "      <th>times_appeared</th>\n",
       "      <th>first_appeared</th>\n",
       "      <th>last_appeared</th>\n",
       "      <th>lowest_price</th>\n",
       "      <th>highest_price</th>\n",
       "    </tr>\n",
       "  </thead>\n",
       "  <tbody>\n",
       "  </tbody>\n",
       "</table>\n",
       "</div>"
      ],
      "text/plain": [
       "Empty DataFrame\n",
       "Columns: [id, name, description, menus_appeared, times_appeared, first_appeared, last_appeared, lowest_price, highest_price]\n",
       "Index: []"
      ]
     },
     "execution_count": 27,
     "metadata": {},
     "output_type": "execute_result"
    }
   ],
   "source": [
    "dish[dish['lowest_price']>dish['highest_price']]"
   ]
  },
  {
   "cell_type": "code",
   "execution_count": 28,
   "metadata": {},
   "outputs": [
    {
     "name": "stdout",
     "output_type": "stream",
     "text": [
      "id column contiains 0 null values\n",
      "id column contains 0 duplicate values\n"
     ]
    }
   ],
   "source": [
    "#Menu table validation\n",
    "print(\"id column contiains\",menu['id'].isnull().sum(),\"null values\")\n",
    "print(\"id column contains\", sum(menu['id'].duplicated()),\"duplicate values\")"
   ]
  },
  {
   "cell_type": "code",
   "execution_count": 33,
   "metadata": {},
   "outputs": [
    {
     "data": {
      "text/plain": [
       "COMMERCIAL                4704\n",
       "SOC;                       541\n",
       "RESTAURANT                 425\n",
       "PROF;                      416\n",
       "COM                        280\n",
       "                          ... \n",
       "OTHER (PRIVATE HOST);        1\n",
       "OTHER (MUSIC SOCIETY?)       1\n",
       "PROG;                        1\n",
       "OTHER (RESIDENCE?)           1\n",
       "NAC;                         1\n",
       "Name: venue, Length: 233, dtype: int64"
      ]
     },
     "execution_count": 33,
     "metadata": {},
     "output_type": "execute_result"
    }
   ],
   "source": [
    "#Venue column\n",
    "menu['venue'].value_counts()"
   ]
  },
  {
   "cell_type": "code",
   "execution_count": 39,
   "metadata": {},
   "outputs": [
    {
     "name": "stdout",
     "output_type": "stream",
     "text": [
      "id column contains 0 null values\n",
      "id column contains 0 duplicate values\n"
     ]
    }
   ],
   "source": [
    "#MenuItem table validation\n",
    "print(\"id column contains\",menu_item['id'].isnull().sum(),\"null values\")\n",
    "print(\"id column contains\", sum(menu_item['id'].duplicated()),\"duplicate values\")"
   ]
  },
  {
   "cell_type": "code",
   "execution_count": 40,
   "metadata": {},
   "outputs": [
    {
     "name": "stdout",
     "output_type": "stream",
     "text": [
      "dish_id column contains 241 null values\n",
      "menu_page_id column contains 0 null values\n"
     ]
    }
   ],
   "source": [
    "print(\"dish_id column contains\",menu_item['dish_id'].isnull().sum(),\"null values\")\n",
    "print(\"menu_page_id column contains\",menu_item['menu_page_id'].isnull().sum(),\"null values\")"
   ]
  },
  {
   "cell_type": "code",
   "execution_count": 41,
   "metadata": {},
   "outputs": [
    {
     "name": "stdout",
     "output_type": "stream",
     "text": [
      "id column contiains 0 null values\n",
      "id column contains 0 duplicate values\n"
     ]
    }
   ],
   "source": [
    "#MenuPage table validation\n",
    "print(\"id column contiains\",menu_page['id'].isnull().sum(),\"null values\")\n",
    "print(\"id column contains\", sum(menu_page['id'].duplicated()),\"duplicate values\")"
   ]
  },
  {
   "cell_type": "code",
   "execution_count": 38,
   "metadata": {},
   "outputs": [
    {
     "name": "stdout",
     "output_type": "stream",
     "text": [
      "id column contiains 0 null values\n"
     ]
    }
   ],
   "source": [
    "print(\"id column contiains\",menu_page['menu_id'].isnull().sum(),\"null values\")"
   ]
  },
  {
   "cell_type": "code",
   "execution_count": 35,
   "metadata": {},
   "outputs": [
    {
     "data": {
      "text/plain": [
       "COM                                    5012\n",
       "SOC                                     656\n",
       "PROF                                    438\n",
       "RESTAURANT                              195\n",
       "GOVT                                    169\n",
       "EDU                                     157\n",
       "HOTEL                                   124\n",
       "OTHER                                   107\n",
       "RAILROAD                                102\n",
       "NAV                                     102\n",
       "PATR                                    102\n",
       "POL                                      92\n",
       "MIL                                      88\n",
       "STEAMSHIP                                52\n",
       "PAT                                      35\n",
       "FOREIGN                                  28\n",
       "GOV                                      27\n",
       "RELIG                                    26\n",
       "SS, FOR                                  21\n",
       "GREEK LETTER FRATERNITY OR SORORITY      16\n",
       "AIRLINE                                  14\n",
       "REL                                      10\n",
       "PRIVATE                                   6\n",
       "CLUB                                      4\n",
       "NAVAL                                     3\n",
       "PATRIOTIC                                 2\n",
       "PRO                                       2\n",
       "DOM                                       1\n",
       "PROG                                      1\n",
       "REPORTERS OF EVENT                        1\n",
       "INDIVIDUAL                                1\n",
       "POSSIBLY A PRIVATE HOST                   1\n",
       "RESORT                                    1\n",
       "ALUMNI                                    1\n",
       "CULTURAL                                  1\n",
       "UNKNOWN                                   1\n",
       "GK                                        1\n",
       "MUSICAL                                   1\n",
       "NAC                                       1\n",
       "Name: venue, dtype: int64"
      ]
     },
     "execution_count": 35,
     "metadata": {},
     "output_type": "execute_result"
    }
   ],
   "source": [
    "menu_cleaned['venue'].value_counts()"
   ]
  },
  {
   "cell_type": "code",
   "execution_count": 46,
   "metadata": {},
   "outputs": [
    {
     "data": {
      "text/plain": [
       "COMMERCIAL                4704\n",
       "SOC;                       541\n",
       "RESTAURANT                 425\n",
       "PROF;                      416\n",
       "COM                        280\n",
       "                          ... \n",
       "OTHER (PRIVATE HOST);        1\n",
       "OTHER (MUSIC SOCIETY?)       1\n",
       "PROG;                        1\n",
       "OTHER (RESIDENCE?)           1\n",
       "NAC;                         1\n",
       "Name: venue, Length: 233, dtype: int64"
      ]
     },
     "execution_count": 46,
     "metadata": {},
     "output_type": "execute_result"
    }
   ],
   "source": [
    "menu['venue'].value_counts()"
   ]
  },
  {
   "cell_type": "code",
   "execution_count": null,
   "metadata": {},
   "outputs": [],
   "source": []
  }
 ],
 "metadata": {
  "kernelspec": {
   "display_name": "Python 3",
   "language": "python",
   "name": "python3"
  },
  "language_info": {
   "codemirror_mode": {
    "name": "ipython",
    "version": 3
   },
   "file_extension": ".py",
   "mimetype": "text/x-python",
   "name": "python",
   "nbconvert_exporter": "python",
   "pygments_lexer": "ipython3",
   "version": "3.8.1"
  },
  "varInspector": {
   "cols": {
    "lenName": 16,
    "lenType": 16,
    "lenVar": 40
   },
   "kernels_config": {
    "python": {
     "delete_cmd_postfix": "",
     "delete_cmd_prefix": "del ",
     "library": "var_list.py",
     "varRefreshCmd": "print(var_dic_list())"
    },
    "r": {
     "delete_cmd_postfix": ") ",
     "delete_cmd_prefix": "rm(",
     "library": "var_list.r",
     "varRefreshCmd": "cat(var_dic_list()) "
    }
   },
   "types_to_exclude": [
    "module",
    "function",
    "builtin_function_or_method",
    "instance",
    "_Feature"
   ],
   "window_display": false
  }
 },
 "nbformat": 4,
 "nbformat_minor": 2
}
